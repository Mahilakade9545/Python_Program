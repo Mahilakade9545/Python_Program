{
 "cells": [
  {
   "cell_type": "markdown",
   "id": "1a393ff1",
   "metadata": {
    "id": "1a393ff1"
   },
   "source": [
    "1. Maximum of two numbers"
   ]
  },
  {
   "cell_type": "code",
   "execution_count": null,
   "id": "6c7a2b37",
   "metadata": {
    "id": "6c7a2b37",
    "outputId": "cb7c8ed9-0ea4-4fa1-b76a-44f93e3ce854"
   },
   "outputs": [
    {
     "name": "stdout",
     "output_type": "stream",
     "text": [
      "9\n"
     ]
    }
   ],
   "source": [
    "def maximum(a,b):\n",
    "    if a >=b:\n",
    "        return a\n",
    "    else:\n",
    "        return b\n",
    "a=2\n",
    "b=9\n",
    "print(maximum(a,b))"
   ]
  },
  {
   "cell_type": "markdown",
   "id": "cf6fb56d",
   "metadata": {
    "id": "cf6fb56d"
   },
   "source": [
    "2. python program for finding simple interest"
   ]
  },
  {
   "cell_type": "code",
   "execution_count": null,
   "id": "2ef85e11",
   "metadata": {
    "id": "2ef85e11",
    "outputId": "1f65a0d5-f1cc-446d-a271-8bc6a239e8e6"
   },
   "outputs": [
    {
     "name": "stdout",
     "output_type": "stream",
     "text": [
      "The principle is 8\n",
      "The rate period is 6\n",
      "The rate of interest is 8\n",
      "The simple interest is 3.84\n"
     ]
    },
    {
     "data": {
      "text/plain": [
       "3.84"
      ]
     },
     "execution_count": 2,
     "metadata": {},
     "output_type": "execute_result"
    }
   ],
   "source": [
    "def simple_interest(p,t,r):\n",
    "    print(\"The principle is\",p)\n",
    "    print(\"The rate period is\",t)\n",
    "    print(\"The rate of interest is\",r)\n",
    "    si=(p*t*r)/100\n",
    "    print(\"The simple interest is\",si)\n",
    "    return si\n",
    "simple_interest(8,6,8)"
   ]
  },
  {
   "cell_type": "markdown",
   "id": "cfa78880",
   "metadata": {
    "id": "cfa78880"
   },
   "source": [
    "3. Finding compound interest"
   ]
  },
  {
   "cell_type": "code",
   "execution_count": null,
   "id": "58dd68b7",
   "metadata": {
    "id": "58dd68b7",
    "outputId": "2fb22f38-5405-4c8e-f86e-092ca80b4a26"
   },
   "outputs": [
    {
     "name": "stdout",
     "output_type": "stream",
     "text": [
      "compound interest is 523.1144921003579\n"
     ]
    }
   ],
   "source": [
    "def compound_interest(principle,rate,time):\n",
    "    Amount=principle*(pow((1+rate/1000),time))\n",
    "    CI= Amount - principle\n",
    "    print(\"compound interest is\", CI)\n",
    "compound_interest(10000,10.25,5)"
   ]
  },
  {
   "cell_type": "markdown",
   "id": "877734b6",
   "metadata": {
    "id": "877734b6"
   },
   "source": [
    "4. Print all prime numbers in an interval."
   ]
  },
  {
   "cell_type": "code",
   "execution_count": null,
   "id": "f1f4b3f5",
   "metadata": {
    "id": "f1f4b3f5",
    "outputId": "ee0faffb-0933-4b3d-bb90-af7ea15b8fb8"
   },
   "outputs": [
    {
     "name": "stdout",
     "output_type": "stream",
     "text": [
      "11\n",
      "11\n",
      "11\n"
     ]
    }
   ],
   "source": [
    "start = 11\n",
    "end = 25\n",
    "for i in range(start , end+1):\n",
    "    if i>1:\n",
    "        for j in range(2,i):\n",
    "            if (i % j == 0):\n",
    "                break\n",
    "            else:\n",
    "                print(i)\n",
    "                "
   ]
  },
  {
   "cell_type": "markdown",
   "id": "b7e7eac6",
   "metadata": {
    "id": "b7e7eac6"
   },
   "source": [
    "5. Find area of circle"
   ]
  },
  {
   "cell_type": "code",
   "execution_count": null,
   "id": "92d95607",
   "metadata": {
    "id": "92d95607",
    "outputId": "d5c8364f-4814-4592-c99e-0535512a7361"
   },
   "outputs": [
    {
     "name": "stdout",
     "output_type": "stream",
     "text": [
      "area is 78.55\n"
     ]
    }
   ],
   "source": [
    "def FindArea(r):\n",
    "    PI=3.142\n",
    "    return PI*(r*r)\n",
    "print(\"area is\",FindArea(5))"
   ]
  },
  {
   "cell_type": "markdown",
   "id": "4fca6b07",
   "metadata": {
    "id": "4fca6b07"
   },
   "source": [
    "6. Sum of squares of first n natural numbers\n"
   ]
  },
  {
   "cell_type": "code",
   "execution_count": null,
   "id": "1e357f1b",
   "metadata": {
    "colab": {
     "base_uri": "https://localhost:8080/"
    },
    "id": "1e357f1b",
    "outputId": "87534650-a283-45d6-869e-dbed208191a1"
   },
   "outputs": [
    {
     "name": "stdout",
     "output_type": "stream",
     "text": [
      "30\n"
     ]
    }
   ],
   "source": [
    "def SumSquares(n):\n",
    "    sm=0\n",
    "    for i in range(1, n+1):\n",
    "        sm=sm+(i * i)\n",
    "    return sm\n",
    "n=4\n",
    "print(SumSquares(n))"
   ]
  },
  {
   "cell_type": "markdown",
   "id": "f890e141",
   "metadata": {
    "id": "f890e141"
   },
   "source": [
    "7. cube sum of first n numbers .\n"
   ]
  },
  {
   "cell_type": "code",
   "execution_count": null,
   "id": "4364bcf5",
   "metadata": {
    "id": "4364bcf5",
    "outputId": "37f404ea-4052-4ad5-c32f-92ee6106f492"
   },
   "outputs": [
    {
     "name": "stdout",
     "output_type": "stream",
     "text": [
      "225\n"
     ]
    }
   ],
   "source": [
    "def SumOfCubes(n):\n",
    "    sum=0\n",
    "    for i in range(1 , n+1):\n",
    "        sum += i* i * i\n",
    "    return sum\n",
    "n = 5\n",
    "print(SumOfCubes(n))"
   ]
  },
  {
   "cell_type": "markdown",
   "id": "77825858",
   "metadata": {
    "id": "77825858"
   },
   "source": [
    "8. Find the sum of array"
   ]
  },
  {
   "cell_type": "code",
   "execution_count": null,
   "id": "618f5e66",
   "metadata": {
    "colab": {
     "base_uri": "https://localhost:8080/"
    },
    "id": "618f5e66",
    "outputId": "ea0d265b-7485-4a90-b3ea-5772ddb16a92"
   },
   "outputs": [
    {
     "name": "stdout",
     "output_type": "stream",
     "text": [
      "189\n"
     ]
    }
   ],
   "source": [
    "def _sum(arr):\n",
    "    sum=0\n",
    "    for i in arr:\n",
    "        sum=sum+i\n",
    "    return sum\n",
    "#arr=[]\n",
    "arr=[23,45,76,45]\n",
    "#n=len(arr)\n",
    "#ans= _sum(arr)\n",
    "#print(\"sum of the array is\", ans)\n",
    "print(_sum(arr))"
   ]
  },
  {
   "cell_type": "markdown",
   "id": "21e7ae94",
   "metadata": {
    "id": "21e7ae94"
   },
   "source": [
    "9. if a trangles of positive area is possible with given angels"
   ]
  },
  {
   "cell_type": "code",
   "execution_count": null,
   "id": "d9cc8d4e",
   "metadata": {
    "id": "d9cc8d4e",
    "outputId": "4888d1e9-cd12-4ca4-c78f-ca348d769ffa"
   },
   "outputs": [
    {
     "name": "stdout",
     "output_type": "stream",
     "text": [
      "yes\n"
     ]
    }
   ],
   "source": [
    "def isTriangleExists(a,b,c):\n",
    "    if(a!=0 and b!=0 and c!=0 and (a+b+c) == 180):\n",
    "        if((a+b)>=c or (b+c)>=a or (c+a)>=b):\n",
    "            return \"yes\"\n",
    "        else:\n",
    "            return \"No\"\n",
    "    else:\n",
    "        \"No\"\n",
    "a,b,c = 50,60,70\n",
    "print(isTriangleExists(50,60,70))"
   ]
  },
  {
   "cell_type": "markdown",
   "id": "6bf1d533",
   "metadata": {
    "id": "6bf1d533"
   },
   "source": [
    "10. Check if binary representation is palindrome."
   ]
  },
  {
   "cell_type": "code",
   "execution_count": null,
   "id": "61a6e7bb",
   "metadata": {
    "collapsed": true,
    "id": "61a6e7bb",
    "jupyter": {
     "outputs_hidden": true
    },
    "outputId": "4eac555c-c175-4fe3-f707-ca312dd9c115"
   },
   "outputs": [
    {
     "ename": "SyntaxError",
     "evalue": "invalid syntax (Temp/ipykernel_7596/1186467807.py, line 5)",
     "output_type": "error",
     "traceback": [
      "\u001b[1;36m  File \u001b[1;32m\"C:\\Users\\ADMIN\\AppData\\Local\\Temp/ipykernel_7596/1186467807.py\"\u001b[1;36m, line \u001b[1;32m5\u001b[0m\n\u001b[1;33m    if __name = \"__main__\"\u001b[0m\n\u001b[1;37m              ^\u001b[0m\n\u001b[1;31mSyntaxError\u001b[0m\u001b[1;31m:\u001b[0m invalid syntax\n"
     ]
    }
   ],
   "source": [
    "def binaryPalindrome(num):\n",
    "    binary=bin(num)\n",
    "    binary=binary[2:]\n",
    "    return binary == binary[-1::1-1]\n",
    "if __name = \"__main__\"\n",
    "    num=9\n",
    "    print(binaryPalindrome(num))"
   ]
  },
  {
   "cell_type": "markdown",
   "id": "33e3307c",
   "metadata": {
    "id": "33e3307c"
   },
   "source": [
    "##### Patterns \n",
    "\n",
    "1. simple pyramid"
   ]
  },
  {
   "cell_type": "code",
   "execution_count": null,
   "id": "c0580b12",
   "metadata": {
    "id": "c0580b12",
    "outputId": "5e5f112f-3783-4326-cfbc-17e2b959e46e",
    "scrolled": true
   },
   "outputs": [
    {
     "name": "stdout",
     "output_type": "stream",
     "text": [
      "* \n",
      "* * \n",
      "* * * \n",
      "* * * * \n",
      "* * * * * \n"
     ]
    }
   ],
   "source": [
    "def pyramid(n):\n",
    "    for i in range(0,n):\n",
    "        for j in range(0, i+1):\n",
    "            print(\"*\", end=\" \")\n",
    "        print(\"\\r\")\n",
    "\n",
    "n=5\n",
    "pyramid(n)"
   ]
  },
  {
   "cell_type": "markdown",
   "id": "2b3eb6db",
   "metadata": {
    "id": "2b3eb6db"
   },
   "source": [
    "2. simple pyramid using list"
   ]
  },
  {
   "cell_type": "code",
   "execution_count": null,
   "id": "bb04f08c",
   "metadata": {
    "id": "bb04f08c",
    "outputId": "8d54ac4c-c30f-48de-dad4-828ed2b7639b"
   },
   "outputs": [
    {
     "name": "stdout",
     "output_type": "stream",
     "text": [
      "*\n",
      "*\n",
      "*\n",
      "*\n",
      "*\n"
     ]
    }
   ],
   "source": [
    "def pyramid(n):\n",
    "    mylist=[]\n",
    "    for i in range(1, n+1):\n",
    "        mylist.append(\"*\")\n",
    "    print(\"\\n\".join(mylist))\n",
    "n=5\n",
    "pyramid(n)"
   ]
  },
  {
   "cell_type": "markdown",
   "id": "3c205129",
   "metadata": {
    "id": "3c205129"
   },
   "source": [
    "* Find yesterday , today and tomorrow date"
   ]
  },
  {
   "cell_type": "code",
   "execution_count": null,
   "id": "2cdaf238",
   "metadata": {
    "id": "2cdaf238",
    "outputId": "90809202-cad4-478f-999b-ab391b4a7841"
   },
   "outputs": [
    {
     "name": "stdout",
     "output_type": "stream",
     "text": [
      " Yesterday = 09-04,22\n",
      "Today = 10-04-22\n",
      "Tomorrow = 11-04-22\n"
     ]
    }
   ],
   "source": [
    "from datetime import datetime \n",
    "from datetime import timedelta\n",
    "presentday = datetime.now()\n",
    "yesterday = presentday- timedelta(1)\n",
    "tomorrow = presentday + timedelta(1)\n",
    "print(\" Yesterday =\", yesterday.strftime('%d-%m,%y'))\n",
    "print(\"Today =\", presentday.strftime('%d-%m-%y'))\n",
    "print(\"Tomorrow =\", tomorrow.strftime('%d-%m-%y'))\n"
   ]
  },
  {
   "cell_type": "markdown",
   "id": "a9047999",
   "metadata": {
    "id": "a9047999"
   },
   "source": [
    "* Python program to find last date of month"
   ]
  },
  {
   "cell_type": "code",
   "execution_count": null,
   "id": "82e64957",
   "metadata": {
    "id": "82e64957",
    "outputId": "e445dfb7-ea3d-41b4-ea86-d42ef95a0345"
   },
   "outputs": [
    {
     "name": "stdout",
     "output_type": "stream",
     "text": [
      "original date is : 2022-01-02 00:00:00\n",
      "last date of month : 31\n"
     ]
    }
   ],
   "source": [
    "from datetime import datetime \n",
    "import calendar\n",
    "d = datetime(2022,1,2)\n",
    "print (\"original date is : \" +str(d))\n",
    "res = calendar.monthrange(d.year, d.month)[1]\n",
    "print(\"last date of month : \"+ str(res))"
   ]
  },
  {
   "cell_type": "code",
   "execution_count": null,
   "id": "pErEECCq58V5",
   "metadata": {
    "colab": {
     "base_uri": "https://localhost:8080/"
    },
    "id": "pErEECCq58V5",
    "outputId": "9266e64b-b80d-4ed4-d3bb-9d9dd469b4e7"
   },
   "outputs": [
    {
     "data": {
      "text/plain": [
       "datetime.date(2000, 1, 31)"
      ]
     },
     "execution_count": 6,
     "metadata": {},
     "output_type": "execute_result"
    }
   ],
   "source": [
    "import datetime\n",
    "datetime.date(2000, 2, 24) - datetime.timedelta(days=24)"
   ]
  },
  {
   "cell_type": "markdown",
   "id": "7e945046",
   "metadata": {
    "id": "7e945046"
   },
   "source": [
    "* To gate month name from month number"
   ]
  },
  {
   "cell_type": "code",
   "execution_count": null,
   "id": "9f124321",
   "metadata": {
    "colab": {
     "base_uri": "https://localhost:8080/"
    },
    "id": "9f124321",
    "outputId": "27f7a1f0-a454-40a6-a6e2-c863ba1a3cdb"
   },
   "outputs": [
    {
     "name": "stdout",
     "output_type": "stream",
     "text": [
      "Jul\n"
     ]
    }
   ],
   "source": [
    "  from datetime import datetime\n",
    "d = datetime(2022,7,5)\n",
    "#print(\" The original date is : \" +str(d))\n",
    "res= d.strftime(\"%b\")\n",
    "print(res)\n",
    "#print(\" Month name from date: \"+str(res))"
   ]
  },
  {
   "cell_type": "markdown",
   "id": "f4daf314",
   "metadata": {
    "id": "f4daf314"
   },
   "source": [
    "* revese a string without reversing its individuals words"
   ]
  },
  {
   "cell_type": "code",
   "execution_count": null,
   "id": "46e0bbcf",
   "metadata": {
    "id": "46e0bbcf",
    "outputId": "82d9d77f-a0e9-4967-f90a-480d82626aaf"
   },
   "outputs": [
    {
     "data": {
      "text/plain": [
       "'much.very.program.this.like.i'"
      ]
     },
     "execution_count": 7,
     "metadata": {},
     "output_type": "execute_result"
    }
   ],
   "source": [
    "s=\"i.like.this.program.very.much\"\n",
    "'.'.join(s.split(\".\")[::-1])"
   ]
  },
  {
   "cell_type": "markdown",
   "id": "e5c28f17",
   "metadata": {
    "id": "e5c28f17"
   },
   "source": [
    "* Using function"
   ]
  },
  {
   "cell_type": "code",
   "execution_count": null,
   "id": "a86e76c0",
   "metadata": {
    "id": "a86e76c0"
   },
   "outputs": [],
   "source": [
    "def reverse_string(s):\n",
    "    return '.'.join(reversed(s.split('.')))"
   ]
  },
  {
   "cell_type": "code",
   "execution_count": null,
   "id": "a681c251",
   "metadata": {
    "id": "a681c251",
    "outputId": "34b251b9-3c67-4c55-da7c-62f3dccd4b29"
   },
   "outputs": [
    {
     "data": {
      "text/plain": [
       "'muc.very.program.this.like.i'"
      ]
     },
     "execution_count": 11,
     "metadata": {},
     "output_type": "execute_result"
    }
   ],
   "source": [
    "reverse_string(\"i.like.this.program.very.muc\")"
   ]
  },
  {
   "cell_type": "markdown",
   "id": "30e3cb42",
   "metadata": {
    "id": "30e3cb42"
   },
   "source": [
    "* Using reversed method"
   ]
  },
  {
   "cell_type": "code",
   "execution_count": null,
   "id": "6a3adec3",
   "metadata": {
    "id": "6a3adec3",
    "outputId": "33cecf55-7688-4bc7-e6ac-f1d418aa4f98"
   },
   "outputs": [
    {
     "data": {
      "text/plain": [
       "'much.very.program.this.like.i'"
      ]
     },
     "execution_count": 13,
     "metadata": {},
     "output_type": "execute_result"
    }
   ],
   "source": [
    "s=\"i.like.this.program.very.much\"\n",
    "'.'.join(reversed(s.split('.')))"
   ]
  },
  {
   "cell_type": "markdown",
   "id": "2940bedf",
   "metadata": {
    "id": "2940bedf"
   },
   "source": [
    "* Find the Square of numbers using map function"
   ]
  },
  {
   "cell_type": "code",
   "execution_count": null,
   "id": "2585b6ff",
   "metadata": {
    "id": "2585b6ff",
    "outputId": "07ee44db-1169-4f78-eac4-7a4fc53b61de"
   },
   "outputs": [
    {
     "name": "stdout",
     "output_type": "stream",
     "text": [
      "1\n",
      "4\n",
      "9\n",
      "16\n",
      "25\n"
     ]
    }
   ],
   "source": [
    "def squre(x):\n",
    "    return x * x\n",
    "num=[1,2,3,4,5]\n",
    "Num_squared= map(squre,num)\n",
    "for num in Num_squared:\n",
    "        print(num)"
   ]
  },
  {
   "cell_type": "code",
   "execution_count": 2,
   "id": "LV_hb9amoK-H",
   "metadata": {
    "colab": {
     "base_uri": "https://localhost:8080/"
    },
    "id": "LV_hb9amoK-H",
    "outputId": "8b066ebe-5350-4abe-d4ef-d110b86e90b8"
   },
   "outputs": [
    {
     "name": "stdout",
     "output_type": "stream",
     "text": [
      "4\n",
      "16\n",
      "36\n",
      "64\n",
      "25\n"
     ]
    }
   ],
   "source": [
    "def squre(x):\n",
    "  return x*x;\n",
    "num=[2,4,6,8,5]\n",
    "num_squared=map(squre,num)\n",
    "for num in num_squared:\n",
    "  print(num)"
   ]
  },
  {
   "cell_type": "code",
   "execution_count": null,
   "id": "P_hH1_VV8DuR",
   "metadata": {
    "id": "P_hH1_VV8DuR"
   },
   "outputs": [],
   "source": []
  },
  {
   "cell_type": "markdown",
   "id": "37047640",
   "metadata": {
    "id": "37047640"
   },
   "source": [
    "* Number divisible by 3 from tuple using lambda function"
   ]
  },
  {
   "cell_type": "code",
   "execution_count": null,
   "id": "72b830c3",
   "metadata": {
    "colab": {
     "base_uri": "https://localhost:8080/"
    },
    "collapsed": true,
    "id": "72b830c3",
    "jupyter": {
     "outputs_hidden": true
    },
    "outputId": "3de78ea0-746c-4d41-e68e-9e5b6b9f1d37"
   },
   "outputs": [
    {
     "name": "stdout",
     "output_type": "stream",
     "text": [
      "(45,)\n"
     ]
    }
   ],
   "source": [
    "import numpy as np\n",
    "import pandas as pd\n",
    "my_tup=(5,32,45,25)\n",
    "New_tup = tuple(filter(lambda x: (x%3==0),my_tup))\n",
    "print(New_tup)"
   ]
  },
  {
   "cell_type": "markdown",
   "id": "7f6c22ca",
   "metadata": {
    "id": "7f6c22ca"
   },
   "source": [
    "* 4 by 4 matrix and find diagonal element and sum it"
   ]
  },
  {
   "cell_type": "code",
   "execution_count": null,
   "id": "8319434b",
   "metadata": {
    "id": "8319434b",
    "outputId": "2ba806e5-a6de-41de-8c07-6f3d053216d5"
   },
   "outputs": [
    {
     "data": {
      "text/plain": [
       "array([[  2,   4,   6,   8],\n",
       "       [  3,   6,   9, -12],\n",
       "       [  4,   8,  12,  16],\n",
       "       [  5, -10,  15,  20]])"
      ]
     },
     "execution_count": 46,
     "metadata": {},
     "output_type": "execute_result"
    }
   ],
   "source": [
    "x=np.array(([[2, 4, 6, 8], \n",
    "             [3, 6, 9, -12], \n",
    "             [4, 8, 12, 16], \n",
    "             [5, -10, 15, 20]]))\n",
    "x"
   ]
  },
  {
   "cell_type": "code",
   "execution_count": null,
   "id": "6086fdda",
   "metadata": {
    "id": "6086fdda",
    "outputId": "6611b403-5d04-42ec-fcfb-17e083ba96ca"
   },
   "outputs": [
    {
     "data": {
      "text/plain": [
       "40"
      ]
     },
     "execution_count": 47,
     "metadata": {},
     "output_type": "execute_result"
    }
   ],
   "source": [
    "x.diagonal().sum()"
   ]
  },
  {
   "cell_type": "markdown",
   "id": "ea4164cd",
   "metadata": {
    "id": "ea4164cd"
   },
   "source": [
    "* get a len of string without using len function"
   ]
  },
  {
   "cell_type": "code",
   "execution_count": null,
   "id": "93ece87d",
   "metadata": {
    "id": "93ece87d",
    "outputId": "b9e57d3b-7510-46b7-f9bc-684c57c57edf"
   },
   "outputs": [
    {
     "name": "stdout",
     "output_type": "stream",
     "text": [
      "11\n"
     ]
    }
   ],
   "source": [
    "a=\"mvivhjvybnu\"\n",
    "count=0\n",
    "for i in a:\n",
    "    count=count+1\n",
    "print(count)"
   ]
  },
  {
   "cell_type": "markdown",
   "id": "f0d95268",
   "metadata": {
    "id": "f0d95268"
   },
   "source": [
    "* Replace all elements numpy array to -1"
   ]
  },
  {
   "cell_type": "code",
   "execution_count": null,
   "id": "6a74993a",
   "metadata": {
    "id": "6a74993a",
    "outputId": "9789437a-5b58-4b82-aab3-63281c47e9bd"
   },
   "outputs": [
    {
     "data": {
      "text/plain": [
       "array([0, 1, 2, 3, 4, 5, 6, 7, 8, 9])"
      ]
     },
     "execution_count": 66,
     "metadata": {},
     "output_type": "execute_result"
    }
   ],
   "source": [
    "x= np.arange(0,10)\n",
    "x"
   ]
  },
  {
   "cell_type": "code",
   "execution_count": null,
   "id": "d8119a0f",
   "metadata": {
    "id": "d8119a0f",
    "outputId": "d33312e5-7b72-46f9-c761-f6e2e2276b3a"
   },
   "outputs": [
    {
     "data": {
      "text/plain": [
       "array([-1, -1, -1, -1, -1, -1, -1, -1, -1, -1])"
      ]
     },
     "execution_count": 67,
     "metadata": {},
     "output_type": "execute_result"
    }
   ],
   "source": [
    "x[x]=-1\n",
    "x"
   ]
  },
  {
   "cell_type": "markdown",
   "id": "df0d056e",
   "metadata": {
    "id": "df0d056e"
   },
   "source": [
    "* Count character in string"
   ]
  },
  {
   "cell_type": "code",
   "execution_count": null,
   "id": "4aa609d0",
   "metadata": {
    "id": "4aa609d0",
    "outputId": "7b6491b6-4bb6-4159-ea50-c9f21320bf29"
   },
   "outputs": [
    {
     "data": {
      "text/plain": [
       "0    6\n",
       "1    6\n",
       "2    6\n",
       "3    4\n",
       "dtype: int64"
      ]
     },
     "execution_count": 74,
     "metadata": {},
     "output_type": "execute_result"
    }
   ],
   "source": [
    "df= pd.Series([\"feefle\",\"lerond\",\"po45nd\",\"sond\"])\n",
    "df.map(lambda a: len(a))"
   ]
  },
  {
   "cell_type": "markdown",
   "id": "a8be4b0d",
   "metadata": {
    "id": "a8be4b0d"
   },
   "source": [
    " * Count a charcter occurences "
   ]
  },
  {
   "cell_type": "code",
   "execution_count": null,
   "id": "8ee18183",
   "metadata": {
    "id": "8ee18183",
    "outputId": "2d63a06b-53f3-465d-9926-87f68f51801c"
   },
   "outputs": [
    {
     "name": "stdout",
     "output_type": "stream",
     "text": [
      "Counter({'l': 2, 'n': 2, 'i': 1, 'k': 1, 'e': 1, 'd': 1})\n"
     ]
    }
   ],
   "source": [
    "from collections import Counter\n",
    "l=\"linkedln\"\n",
    "print(Counter(list(l)))"
   ]
  },
  {
   "cell_type": "code",
   "execution_count": null,
   "id": "dba5c6c4",
   "metadata": {
    "id": "dba5c6c4",
    "outputId": "14f72036-864d-4ad0-fbc5-08e53a6ffd41"
   },
   "outputs": [
    {
     "name": "stdout",
     "output_type": "stream",
     "text": [
      "{'l': 1, 'i': 2, 'n': 2, 'k': 1, 'e': 1, 'd': 1}\n"
     ]
    }
   ],
   "source": [
    "s=\"Linkedin\"\n",
    "s=s.lower()\n",
    "d={}\n",
    "for i in s:\n",
    "    d[i]=0\n",
    "for i in s:\n",
    "    d[i]=d[i]+1\n",
    "print(d)"
   ]
  },
  {
   "cell_type": "markdown",
   "id": "LRbRVrYy5CYw",
   "metadata": {
    "id": "LRbRVrYy5CYw"
   },
   "source": [
    "How do you print the summation of all the numbers from 1 to 101?"
   ]
  },
  {
   "cell_type": "code",
   "execution_count": null,
   "id": "i2nXd6on5tlS",
   "metadata": {
    "colab": {
     "base_uri": "https://localhost:8080/"
    },
    "id": "i2nXd6on5tlS",
    "outputId": "5a416aa3-dce1-40db-d651-6ab01429544f"
   },
   "outputs": [
    {
     "name": "stdout",
     "output_type": "stream",
     "text": [
      "5151\n"
     ]
    }
   ],
   "source": [
    "print(sum(range(1,102)))"
   ]
  },
  {
   "cell_type": "markdown",
   "id": "onl04fSj55OM",
   "metadata": {
    "id": "onl04fSj55OM"
   },
   "source": [
    "Is it possible to construct a Python program that calculates the mean of numbers in a list?"
   ]
  },
  {
   "cell_type": "code",
   "execution_count": null,
   "id": "Va9txnCj6QNS",
   "metadata": {
    "colab": {
     "base_uri": "https://localhost:8080/"
    },
    "id": "Va9txnCj6QNS",
    "outputId": "546dda7c-2f95-4ba3-b495-1fc5fa0855a9"
   },
   "outputs": [
    {
     "name": "stdout",
     "output_type": "stream",
     "text": [
      "53.57142857142857\n"
     ]
    }
   ],
   "source": [
    "import numpy as np\n",
    "list=[34,54,32,54,53,89,59]\n",
    "print(np.average(list))"
   ]
  },
  {
   "cell_type": "markdown",
   "id": "TpfHo34b7WTi",
   "metadata": {
    "id": "TpfHo34b7WTi"
   },
   "source": [
    "Reverse a number"
   ]
  },
  {
   "cell_type": "code",
   "execution_count": null,
   "id": "O4PyijPL7bJV",
   "metadata": {
    "colab": {
     "base_uri": "https://localhost:8080/"
    },
    "id": "O4PyijPL7bJV",
    "outputId": "83a37996-e49c-4457-a8e8-ddf9740d010d"
   },
   "outputs": [
    {
     "name": "stdout",
     "output_type": "stream",
     "text": [
      "65432\n"
     ]
    }
   ],
   "source": [
    "n=23456\n",
    "print(str(n)[::-1])"
   ]
  },
  {
   "cell_type": "markdown",
   "id": "n_ZPXDXWPHD_",
   "metadata": {
    "id": "n_ZPXDXWPHD_"
   },
   "source": [
    "Class"
   ]
  },
  {
   "cell_type": "code",
   "execution_count": null,
   "id": "dII9CzGuPIaQ",
   "metadata": {
    "colab": {
     "base_uri": "https://localhost:8080/"
    },
    "id": "dII9CzGuPIaQ",
    "outputId": "318dc9a6-4035-4cc4-9943-d1cf9d716c60"
   },
   "outputs": [
    {
     "name": "stdout",
     "output_type": "stream",
     "text": [
      "sdfg\n",
      "10\n"
     ]
    }
   ],
   "source": [
    "class student:\n",
    "  def __init__(self,st_name, st_class, st_marks):\n",
    "    self.st_name = st_name\n",
    "    self.st_class= st_class\n",
    "    self.st_marks= 78\n",
    "s1 = student(\"sdfg\",10,78)\n",
    "print(s1.st_name)\n",
    "print(s1.st_class)"
   ]
  },
  {
   "cell_type": "markdown",
   "id": "UhJ9d4_nhw4f",
   "metadata": {
    "id": "UhJ9d4_nhw4f"
   },
   "source": [
    "Make a Python script that checks if a given number is prime."
   ]
  },
  {
   "cell_type": "code",
   "execution_count": null,
   "id": "bCSTKPtuhzBp",
   "metadata": {
    "colab": {
     "base_uri": "https://localhost:8080/"
    },
    "id": "bCSTKPtuhzBp",
    "outputId": "f25740c6-bc24-43aa-b598-6956e80aa0e9"
   },
   "outputs": [
    {
     "name": "stdout",
     "output_type": "stream",
     "text": [
      "enter the number11\n",
      "11 is prime\n"
     ]
    }
   ],
   "source": [
    "num=int(input(\"enter the number\"))\n",
    "if num>1:\n",
    "  for i in range(2,num):\n",
    "    if (num%i)==0:\n",
    "      print(num,\"is not prime\")\n",
    "      break\n",
    "  else:\n",
    "      print(num,\"is prime\")\n",
    "else:\n",
    "  print(num,\" is not prime\")"
   ]
  },
  {
   "cell_type": "markdown",
   "id": "igM6W0HNlJlp",
   "metadata": {
    "id": "igM6W0HNlJlp"
   },
   "source": [
    " Python program to check if the given string is a palindrome  "
   ]
  },
  {
   "cell_type": "code",
   "execution_count": null,
   "id": "8DJoV13_lFj3",
   "metadata": {
    "colab": {
     "base_uri": "https://localhost:8080/"
    },
    "id": "8DJoV13_lFj3",
    "outputId": "18fe5a00-f46a-4711-c58f-bb15d507ecf6"
   },
   "outputs": [
    {
     "name": "stdout",
     "output_type": "stream",
     "text": [
      "the sequence is palindrome\n"
     ]
    }
   ],
   "source": [
    "sequence='klmmlk'\n",
    "reverse=sequence[::-1]\n",
    "if sequence==reverse:\n",
    "  print(\"the sequence is palindrome\")\n",
    "else:\n",
    "  print(\"the sequence is not palindrome\")"
   ]
  },
  {
   "cell_type": "markdown",
   "id": "Cxcybd8cL8b3",
   "metadata": {
    "id": "Cxcybd8cL8b3"
   },
   "source": [
    "Using Python/ NumPy, write code to compute percentiles?"
   ]
  },
  {
   "cell_type": "code",
   "execution_count": null,
   "id": "lPbq1ZCgL9oE",
   "metadata": {
    "colab": {
     "base_uri": "https://localhost:8080/"
    },
    "id": "lPbq1ZCgL9oE",
    "outputId": "d551d410-218e-46a8-f45e-7888b1562dc1"
   },
   "outputs": [
    {
     "name": "stdout",
     "output_type": "stream",
     "text": [
      "2.5\n"
     ]
    }
   ],
   "source": [
    "import numpy\n",
    "array=numpy.array([2,5,4,7,1,2])\n",
    "percentile=numpy.percentile(array,45)\n",
    "print(percentile)"
   ]
  },
  {
   "cell_type": "markdown",
   "id": "BDL4u1Q2huWc",
   "metadata": {
    "id": "BDL4u1Q2huWc"
   },
   "source": [
    "Write a Python program to determine whether a number is binary."
   ]
  },
  {
   "cell_type": "code",
   "execution_count": null,
   "id": "Ng0V9PwIhyh4",
   "metadata": {
    "colab": {
     "base_uri": "https://localhost:8080/"
    },
    "id": "Ng0V9PwIhyh4",
    "outputId": "56040b4c-2bf8-4db5-96c2-ccfbbe274560"
   },
   "outputs": [
    {
     "name": "stdout",
     "output_type": "stream",
     "text": [
      "enter a number 91278176487\n",
      "number is not binary\n"
     ]
    }
   ],
   "source": [
    "x=int(input(\"enter a number \"))\n",
    "if x>0:\n",
    "  y=x%10\n",
    "  if x!=0 and x!=1:\n",
    "    print(\"number is not binary\")\n",
    "  else:\n",
    "    print(\"number is binary\")\n",
    "#k=x//10\n",
    "#if k==0:\n",
    " # print(\"number is binary\")"
   ]
  },
  {
   "cell_type": "markdown",
   "id": "5O968di7jtHZ",
   "metadata": {
    "id": "5O968di7jtHZ"
   },
   "source": [
    "Using the Iterative technique, calculate factorial in Python."
   ]
  },
  {
   "cell_type": "code",
   "execution_count": null,
   "id": "IcGKWyglv232",
   "metadata": {
    "colab": {
     "base_uri": "https://localhost:8080/"
    },
    "id": "IcGKWyglv232",
    "outputId": "9faa2ec2-befd-4a8f-d09d-f2756b973ae4"
   },
   "outputs": [
    {
     "name": "stdout",
     "output_type": "stream",
     "text": [
      "120\n"
     ]
    }
   ],
   "source": [
    "def fectorial(n):\n",
    "  fact=1\n",
    "  for i in range(n,0,-1):\n",
    "    fact = fact * i\n",
    "  return fact\n",
    "print(fectorial(5))"
   ]
  },
  {
   "cell_type": "code",
   "execution_count": null,
   "id": "EzTcq2bpwWTd",
   "metadata": {
    "id": "EzTcq2bpwWTd"
   },
   "outputs": [],
   "source": [
    "def check_anagram(data1, data2):\n",
    "    data1 = data1.lower()\n",
    "    data2 = data2.lower()\n",
    "    if sorted(data1) != sorted(data2):\n",
    "        return False\n",
    "    return all(data1[i] != data2[i] for i in range(len(data1)))\n",
    "\n",
    "\n"
   ]
  },
  {
   "cell_type": "code",
   "execution_count": null,
   "id": "K5rLALUeBiet",
   "metadata": {
    "colab": {
     "base_uri": "https://localhost:8080/"
    },
    "id": "K5rLALUeBiet",
    "outputId": "89c981b5-4382-4a5b-fb51-76b537313096"
   },
   "outputs": [
    {
     "name": "stdout",
     "output_type": "stream",
     "text": [
      "False\n"
     ]
    }
   ],
   "source": [
    "print(check_anagram('buwbwjh','wyguy'))"
   ]
  },
  {
   "cell_type": "code",
   "execution_count": null,
   "id": "Y5JrULyQBnng",
   "metadata": {
    "colab": {
     "base_uri": "https://localhost:8080/"
    },
    "id": "Y5JrULyQBnng",
    "outputId": "c58402fd-ac6a-4502-ac98-d304807572bd"
   },
   "outputs": [
    {
     "name": "stdout",
     "output_type": "stream",
     "text": [
      "d\n"
     ]
    }
   ],
   "source": [
    "def findExtraCharacter(strA, strB):\n",
    "\tm1 = {}\n",
    "\n",
    "\tfor i in strB:\n",
    "\t\tif i in m1:\n",
    "\t\t\tm1[i] += 1\n",
    "\t\telse:\n",
    "\t\t\tm1[i] = 1\n",
    "\n",
    "\tfor i in strA:\n",
    "\t\tm1[i] -= 1\n",
    "\n",
    "\tfor h1 in m1:\n",
    "\n",
    "\t\tif m1[h1] == 1:\n",
    "\t\t\treturn h1\n",
    "\n",
    "if __name__ == \"__main__\":\n",
    "\n",
    "\tstrA = 'abcd'\n",
    "\tstrB = 'cbdad'\n",
    "\n",
    "\tprint(findExtraCharacter(strA, strB))\n"
   ]
  },
  {
   "cell_type": "markdown",
   "id": "-Jv9Ame6Efrd",
   "metadata": {
    "id": "-Jv9Ame6Efrd"
   },
   "source": [
    "Write a Python program that removes vowels from a string."
   ]
  },
  {
   "cell_type": "code",
   "execution_count": null,
   "id": "Jxd87Jb7EcQS",
   "metadata": {
    "colab": {
     "base_uri": "https://localhost:8080/"
    },
    "id": "Jxd87Jb7EcQS",
    "outputId": "1b3aad79-a9e2-4bfd-eab3-5854bf2da3d2"
   },
   "outputs": [
    {
     "name": "stdout",
     "output_type": "stream",
     "text": [
      "enter a nameappalakade\n",
      "pplkd\n"
     ]
    }
   ],
   "source": [
    "x=input(\"enter a name\")\n",
    "v=('a','e','i','o','u')\n",
    "s=''\n",
    "for i in x:\n",
    "  if i.lower() not in v:\n",
    "    s=s+i\n",
    "print(s)\n"
   ]
  },
  {
   "cell_type": "code",
   "execution_count": null,
   "id": "mPnZdxk7FfdT",
   "metadata": {
    "colab": {
     "base_uri": "https://localhost:8080/"
    },
    "id": "mPnZdxk7FfdT",
    "outputId": "5ed3ec65-6565-48a5-c984-d96903b62633"
   },
   "outputs": [
    {
     "name": "stdout",
     "output_type": "stream",
     "text": [
      "[75, 24, 86, 24, 86, 76, 23, 24, 5, 12, 23]\n"
     ]
    }
   ],
   "source": [
    "array = [23, 12, 5, 24, 23, 76, 86, 24, 86, 24, 75]\n",
    "print(array[::-1])"
   ]
  },
  {
   "cell_type": "markdown",
   "id": "-wFEJfF0VHP8",
   "metadata": {
    "id": "-wFEJfF0VHP8"
   },
   "source": [
    "print the prime numbers between 100 to 200."
   ]
  },
  {
   "cell_type": "code",
   "execution_count": null,
   "id": "mplMzP0vGSTT",
   "metadata": {
    "colab": {
     "base_uri": "https://localhost:8080/"
    },
    "id": "mplMzP0vGSTT",
    "outputId": "3e803da1-d502-417c-89d1-1896f1d7d5fb"
   },
   "outputs": [
    {
     "name": "stdout",
     "output_type": "stream",
     "text": [
      "101\n",
      "103\n",
      "107\n",
      "109\n",
      "113\n",
      "127\n",
      "131\n",
      "137\n",
      "139\n",
      "149\n",
      "151\n",
      "157\n",
      "163\n",
      "167\n",
      "173\n",
      "179\n",
      "181\n",
      "191\n",
      "193\n",
      "197\n",
      "199\n"
     ]
    }
   ],
   "source": [
    "for num in range(100,200):\n",
    "  if all(num%i !=0 for i in range(2,num)):\n",
    "    print(num)\n",
    "  "
   ]
  },
  {
   "cell_type": "markdown",
   "id": "sWFb5-BpWqEX",
   "metadata": {
    "id": "sWFb5-BpWqEX"
   },
   "source": [
    "sort function without using built-in fuction"
   ]
  },
  {
   "cell_type": "code",
   "execution_count": null,
   "id": "o4fOfYlIZMIo",
   "metadata": {
    "colab": {
     "base_uri": "https://localhost:8080/"
    },
    "id": "o4fOfYlIZMIo",
    "outputId": "03bd2e95-db6f-4633-ed97-20e4958673cc"
   },
   "outputs": [
    {
     "name": "stdout",
     "output_type": "stream",
     "text": [
      "[122, 64, 44, 34, 25, 23, 22, 12, 11, 3, 2, 1]\n"
     ]
    }
   ],
   "source": [
    "l = [64, 25, 12, 22, 11, 1,2,44,3,122, 23, 34]\n",
    "\n",
    "for i in range(len(l)):\n",
    "  for j in range(i+1,len(l)):\n",
    "     if l[i] < l[j]:\n",
    "\n",
    "        l[i],l[j] = l[j],l[i]\n",
    "print(l)"
   ]
  },
  {
   "cell_type": "markdown",
   "id": "3aPlKUYVct5R",
   "metadata": {
    "id": "3aPlKUYVct5R"
   },
   "source": [
    "print fibonnacci series."
   ]
  },
  {
   "cell_type": "code",
   "execution_count": null,
   "id": "SnMaNLG0c26g",
   "metadata": {
    "colab": {
     "base_uri": "https://localhost:8080/"
    },
    "id": "SnMaNLG0c26g",
    "outputId": "5f9de2bc-6e8e-449c-e95c-b1d858d0a79b"
   },
   "outputs": [
    {
     "name": "stdout",
     "output_type": "stream",
     "text": [
      "0\n",
      "1\n",
      "1\n",
      "2\n",
      "3\n",
      "5\n",
      "8\n",
      "13\n",
      "21\n",
      "34\n",
      "55\n",
      "89\n"
     ]
    }
   ],
   "source": [
    "def f(n):\n",
    "  if n== 0:\n",
    "    return 0\n",
    "  elif n== 1:\n",
    "    return 1\n",
    "  else: \n",
    "    return f(n-1)+f(n-2)\n",
    "for i in range(0,12):\n",
    "  print(f(i))"
   ]
  },
  {
   "cell_type": "markdown",
   "id": "oekuh1ZPpoRm",
   "metadata": {
    "id": "oekuh1ZPpoRm"
   },
   "source": [
    "Print set of duplicates in the list"
   ]
  },
  {
   "cell_type": "code",
   "execution_count": null,
   "id": "PNdluf7jpvqH",
   "metadata": {
    "colab": {
     "base_uri": "https://localhost:8080/"
    },
    "id": "PNdluf7jpvqH",
    "outputId": "460cab6e-82d5-4d14-f202-73225f6ad070"
   },
   "outputs": [
    {
     "name": "stdout",
     "output_type": "stream",
     "text": [
      "{4, 5, 7}\n"
     ]
    }
   ],
   "source": [
    "l=[4,5,3,7,2,1,5,4,7,9]\n",
    "print(set([x for x in l if l.count(x)>1 ]))"
   ]
  },
  {
   "cell_type": "markdown",
   "id": "zF6lo1uLqdMx",
   "metadata": {
    "id": "zF6lo1uLqdMx"
   },
   "source": [
    "Print the number of words in the sentense"
   ]
  },
  {
   "cell_type": "code",
   "execution_count": null,
   "id": "d5DiP47hqnDG",
   "metadata": {
    "colab": {
     "base_uri": "https://localhost:8080/"
    },
    "id": "d5DiP47hqnDG",
    "outputId": "268f3982-c990-4753-8673-49723d3770e0"
   },
   "outputs": [
    {
     "name": "stdout",
     "output_type": "stream",
     "text": [
      "6\n"
     ]
    }
   ],
   "source": [
    "s= 'pc is a very nice girl'\n",
    "print(len(s.split()))"
   ]
  },
  {
   "cell_type": "markdown",
   "id": "CnuBhx5Yr1fw",
   "metadata": {
    "id": "CnuBhx5Yr1fw"
   },
   "source": [
    ". Given an array arr[] of n elements, write a Python function to search a given element x in arr[]."
   ]
  },
  {
   "cell_type": "code",
   "execution_count": null,
   "id": "3KrD7DVZq4A6",
   "metadata": {
    "colab": {
     "base_uri": "https://localhost:8080/"
    },
    "id": "3KrD7DVZq4A6",
    "outputId": "90ca1e3e-aeb6-49ee-c434-7d281802d377"
   },
   "outputs": [
    {
     "name": "stdout",
     "output_type": "stream",
     "text": [
      "not in the array\n",
      "None\n"
     ]
    }
   ],
   "source": [
    "def search(arr,x):\n",
    "  for i in range(len(arr)):\n",
    "    if arr[i]==x:\n",
    "      return i\n",
    "  print('not in the array')\n",
    "l=[3,4,6,4,3,8,63,8]\n",
    "print(search(l,0))\n"
   ]
  },
  {
   "cell_type": "markdown",
   "id": "7rgRbHVSmbwe",
   "metadata": {
    "id": "7rgRbHVSmbwe"
   },
   "source": [
    "Write a Python program to join two strings (Hint: using join())"
   ]
  },
  {
   "cell_type": "code",
   "execution_count": null,
   "id": "KGCTlec0me6O",
   "metadata": {
    "colab": {
     "base_uri": "https://localhost:8080/"
    },
    "id": "KGCTlec0me6O",
    "outputId": "307c003a-7e8a-4025-aa9e-e97ebad1cd21"
   },
   "outputs": [
    {
     "name": "stdout",
     "output_type": "stream",
     "text": [
      "appa lakade mahi kaade\n"
     ]
    }
   ],
   "source": [
    "str='appa lakade'\n",
    "str1='mahi kaade'\n",
    "res=\" \".join((str, str1))\n",
    "print(res)"
   ]
  },
  {
   "cell_type": "markdown",
   "id": "zUxgkj_Bu5e4",
   "metadata": {
    "id": "zUxgkj_Bu5e4"
   },
   "source": [
    "Write a Python program to extract digits from given string."
   ]
  },
  {
   "cell_type": "code",
   "execution_count": null,
   "id": "T-_K89gVgt-x",
   "metadata": {
    "colab": {
     "base_uri": "https://localhost:8080/",
     "height": 36
    },
    "id": "T-_K89gVgt-x",
    "outputId": "6ddbb765-99c3-4829-e652-0e12c519be81"
   },
   "outputs": [
    {
     "data": {
      "application/vnd.google.colaboratory.intrinsic+json": {
       "type": "string"
      },
      "text/plain": [
       "'34245'"
      ]
     },
     "execution_count": 14,
     "metadata": {},
     "output_type": "execute_result"
    }
   ],
   "source": [
    "l='wvtgvwc342ff45wfew'\n",
    "res=\"\".join(filter(lambda i: i.isdigit(),l))\n",
    "res"
   ]
  },
  {
   "cell_type": "markdown",
   "id": "K2NssmOizXmx",
   "metadata": {
    "id": "K2NssmOizXmx"
   },
   "source": [
    "Write a Python program to split strings using newline delimiter"
   ]
  },
  {
   "cell_type": "code",
   "execution_count": null,
   "id": "8UAYsV3Fvt0S",
   "metadata": {
    "colab": {
     "base_uri": "https://localhost:8080/"
    },
    "id": "8UAYsV3Fvt0S",
    "outputId": "c302633e-c6b4-40b5-ca66-ab1267c6be21"
   },
   "outputs": [
    {
     "data": {
      "text/plain": [
       "['my', 'name', 'is', 'appasaheb']"
      ]
     },
     "execution_count": 16,
     "metadata": {},
     "output_type": "execute_result"
    }
   ],
   "source": [
    "s='my name is appasaheb'\n",
    "res=(s.rstrip().split(\" \"))\n",
    "res"
   ]
  },
  {
   "cell_type": "markdown",
   "id": "RU3CA9Bk0zq1",
   "metadata": {
    "id": "RU3CA9Bk0zq1"
   },
   "source": [
    "remove duplicates from a list"
   ]
  },
  {
   "cell_type": "code",
   "execution_count": null,
   "id": "Q5OEaJNR1lS9",
   "metadata": {
    "colab": {
     "base_uri": "https://localhost:8080/"
    },
    "id": "Q5OEaJNR1lS9",
    "outputId": "bb5c4884-4ccc-4497-c6ad-c1b8fadd4f3e"
   },
   "outputs": [
    {
     "name": "stdout",
     "output_type": "stream",
     "text": [
      "geksfor\n"
     ]
    }
   ],
   "source": [
    "string=\"geeksforgeeks\"\n",
    "p=\"\"\n",
    "for char in string:\n",
    "    if char not in p:\n",
    "        p=p+char\n",
    "print(p)\n",
    "k=list(\"geeksforgeeks\")"
   ]
  },
  {
   "cell_type": "markdown",
   "id": "CGoAqEObaCQF",
   "metadata": {
    "id": "CGoAqEObaCQF"
   },
   "source": [
    "Inheritence Example "
   ]
  },
  {
   "cell_type": "code",
   "execution_count": null,
   "id": "R7-snMC-aO1z",
   "metadata": {
    "colab": {
     "base_uri": "https://localhost:8080/"
    },
    "id": "R7-snMC-aO1z",
    "outputId": "8ac1fea5-2bec-4605-d76a-d20784505905"
   },
   "outputs": [
    {
     "name": "stdout",
     "output_type": "stream",
     "text": [
      "safaer 23 edurekha\n"
     ]
    }
   ],
   "source": [
    "class parent:\n",
    "  def __init__ (self, fname, fage):\n",
    "    self.age= fage\n",
    "    self.name = fname\n",
    "\n",
    "  def view(self):\n",
    "    print(self.age, self.name)\n",
    "\n",
    "class child(parent):\n",
    "  def __init__(self, fname, fage):\n",
    "      parent.__init__(self,fname, fage)\n",
    "      self.lastname= \"edurekha\"   \n",
    "\n",
    "  def view(self):\n",
    "    print(self.age,self.name,self.lastname)\n",
    "ob= child(23,'safaer')\n",
    "ob.view()\n"
   ]
  },
  {
   "cell_type": "code",
   "execution_count": 3,
   "id": "r0lWJqZJciDE",
   "metadata": {
    "colab": {
     "base_uri": "https://localhost:8080/"
    },
    "id": "r0lWJqZJciDE",
    "outputId": "fec989a3-3151-4c13-ce62-32b3ae5626c7"
   },
   "outputs": [
    {
     "name": "stdout",
     "output_type": "stream",
     "text": [
      "Enter number: 5\n",
      "5 != 120\n"
     ]
    }
   ],
   "source": [
    "x = lambda num : 1 if num <= 1 else num*x(num-1)\n",
    "\n",
    "number = int(input('Enter number: '))\n",
    "\n",
    "print('%d != %d' %(number, x(number)))"
   ]
  },
  {
   "cell_type": "code",
   "execution_count": 4,
   "id": "vqDl9c8keqVX",
   "metadata": {
    "colab": {
     "base_uri": "https://localhost:8080/"
    },
    "id": "vqDl9c8keqVX",
    "outputId": "2b88e0e8-0827-4808-aefb-506fc1c40ef0"
   },
   "outputs": [
    {
     "name": "stdout",
     "output_type": "stream",
     "text": [
      "120\n"
     ]
    }
   ],
   "source": [
    "from functools import *\n",
    "output=reduce(lambda x,y:x*y,range(1,6))\n",
    "print(output)"
   ]
  },
  {
   "cell_type": "code",
   "execution_count": 19,
   "id": "Gl2_mUbYfJjV",
   "metadata": {
    "colab": {
     "base_uri": "https://localhost:8080/"
    },
    "id": "Gl2_mUbYfJjV",
    "outputId": "6913d962-b095-431a-fcb6-b27d08517aaf"
   },
   "outputs": [
    {
     "name": "stdout",
     "output_type": "stream",
     "text": [
      "120\n"
     ]
    }
   ],
   "source": [
    "def fact(n):\n",
    "  if n==0:\n",
    "    result=1\n",
    "  else:\n",
    "    result=n*fact(n-1)\n",
    "  return result\n",
    "print(fact(5))"
   ]
  },
  {
   "cell_type": "code",
   "execution_count": 29,
   "id": "qT9kdaQuf6U5",
   "metadata": {
    "id": "qT9kdaQuf6U5"
   },
   "outputs": [],
   "source": [
    "l=[1,2,3,4,5]\n",
    "l2=[10,20,30,40,50]\n",
    "result=list(map(lambda x,y:x+y,l,l2))"
   ]
  },
  {
   "cell_type": "code",
   "execution_count": 30,
   "id": "dY4tdnTOgGaA",
   "metadata": {
    "colab": {
     "base_uri": "https://localhost:8080/"
    },
    "id": "dY4tdnTOgGaA",
    "outputId": "5a9c01b6-2215-4abf-c400-58d1c97fadfd"
   },
   "outputs": [
    {
     "name": "stdout",
     "output_type": "stream",
     "text": [
      "[11, 22, 33, 44, 55]\n"
     ]
    }
   ],
   "source": [
    "print(result)"
   ]
  },
  {
   "cell_type": "code",
   "execution_count": 31,
   "id": "beiWFpedhdYA",
   "metadata": {
    "id": "beiWFpedhdYA"
   },
   "outputs": [],
   "source": [
    "l=[1,2,3,4,5]\n",
    "l2=[10,20,30,40,50]\n",
    "result=l+l2"
   ]
  },
  {
   "cell_type": "code",
   "execution_count": 32,
   "id": "O1NB9lJaiJka",
   "metadata": {
    "colab": {
     "base_uri": "https://localhost:8080/"
    },
    "id": "O1NB9lJaiJka",
    "outputId": "06a12620-0379-4be1-d5ee-dd2632aaaf19"
   },
   "outputs": [
    {
     "name": "stdout",
     "output_type": "stream",
     "text": [
      "[1, 2, 3, 4, 5, 10, 20, 30, 40, 50]\n"
     ]
    }
   ],
   "source": [
    "print(result)"
   ]
  },
  {
   "cell_type": "code",
   "execution_count": 35,
   "id": "eFwhqGufiM1l",
   "metadata": {
    "colab": {
     "base_uri": "https://localhost:8080/"
    },
    "id": "eFwhqGufiM1l",
    "outputId": "3459c043-fb9d-401b-da89-65e9ce8f989d"
   },
   "outputs": [
    {
     "name": "stdout",
     "output_type": "stream",
     "text": [
      "None\n"
     ]
    }
   ],
   "source": [
    "result=l.extend(l2)\n",
    "print(result)"
   ]
  },
  {
   "cell_type": "code",
   "execution_count": 7,
   "id": "cDdWFMpZiULg",
   "metadata": {
    "id": "cDdWFMpZiULg"
   },
   "outputs": [],
   "source": [
    "# intersection elements in two lists\n",
    "\n",
    "lst= [34,56,78,90]\n",
    "lst1= [34,56,32,76]\n",
    "lst3=[]\n",
    "for i in lst:\n",
    "    if i in lst1:\n",
    "        lst3.append(i)\n",
    "        \n",
    "        "
   ]
  },
  {
   "cell_type": "code",
   "execution_count": 8,
   "id": "57a5b565-f0c3-4fe1-bf33-4a621d1d7afe",
   "metadata": {},
   "outputs": [
    {
     "data": {
      "text/plain": [
       "[34, 56]"
      ]
     },
     "execution_count": 8,
     "metadata": {},
     "output_type": "execute_result"
    }
   ],
   "source": [
    "lst3"
   ]
  },
  {
   "cell_type": "code",
   "execution_count": 53,
   "id": "db0aa919-23f1-462d-8c27-d0d11e8cbcbb",
   "metadata": {},
   "outputs": [
    {
     "name": "stdout",
     "output_type": "stream",
     "text": [
      "appa si eman ym\n"
     ]
    },
    {
     "data": {
      "text/plain": [
       "['ym', 'eman', 'si', 'appa']"
      ]
     },
     "execution_count": 53,
     "metadata": {},
     "output_type": "execute_result"
    }
   ],
   "source": [
    "# reversing the words in string\n",
    "\n",
    "str1= 'my name is appa'\n",
    "str2=str1[::-1]\n",
    "print(str2)\n",
    "s=str2.split()\n",
    "s.reverse()\n",
    "s"
   ]
  },
  {
   "cell_type": "code",
   "execution_count": 7,
   "id": "5dfd985a-4d1e-4cef-a0b5-5164e44a49a6",
   "metadata": {},
   "outputs": [
    {
     "name": "stdin",
     "output_type": "stream",
     "text": [
      "enter your name Appa\n"
     ]
    },
    {
     "name": "stdout",
     "output_type": "stream",
     "text": [
      "hello Appa\n"
     ]
    }
   ],
   "source": [
    "print('hello',input(prompt='enter your name'))"
   ]
  },
  {
   "cell_type": "code",
   "execution_count": 1,
   "id": "55a30ff9-0286-4e83-9e67-a8e4662c82dc",
   "metadata": {},
   "outputs": [
    {
     "data": {
      "application/javascript": [
       "\n",
       "        if (window._pyforest_update_imports_cell) { window._pyforest_update_imports_cell('import pickle'); }\n",
       "    "
      ],
      "text/plain": [
       "<IPython.core.display.Javascript object>"
      ]
     },
     "metadata": {},
     "output_type": "display_data"
    }
   ],
   "source": [
    "# how to create pickle object from list\n",
    "\n",
    "lst=[6,89,4,3,6,]\n",
    "with open('lst.pickle', 'wb') as file:\n",
    "    pickle.dump(lst, file)\n",
    "    "
   ]
  },
  {
   "cell_type": "code",
   "execution_count": 4,
   "id": "29e4518d-7942-4946-94b5-8156428fd1bd",
   "metadata": {},
   "outputs": [
    {
     "data": {
      "application/javascript": [
       "\n",
       "        if (window._pyforest_update_imports_cell) { window._pyforest_update_imports_cell('import pickle'); }\n",
       "    "
      ],
      "text/plain": [
       "<IPython.core.display.Javascript object>"
      ]
     },
     "metadata": {},
     "output_type": "display_data"
    }
   ],
   "source": [
    "with open('lst.pickle', 'rb') as file:\n",
    "    loaded_list = pickle.load(file)"
   ]
  },
  {
   "cell_type": "code",
   "execution_count": 3,
   "id": "08ded6c7-315c-42ba-85ad-921926b878cb",
   "metadata": {},
   "outputs": [
    {
     "data": {
      "text/plain": [
       "[6, 89, 4, 3, 6]"
      ]
     },
     "execution_count": 3,
     "metadata": {},
     "output_type": "execute_result"
    }
   ],
   "source": [
    "loaded_list"
   ]
  },
  {
   "cell_type": "code",
   "execution_count": null,
   "id": "584df18f-186e-4730-8b9b-455e599b069d",
   "metadata": {},
   "outputs": [],
   "source": []
  }
 ],
 "metadata": {
  "colab": {
   "collapsed_sections": [],
   "provenance": []
  },
  "kernelspec": {
   "display_name": "Python 3 (ipykernel)",
   "language": "python",
   "name": "python3"
  },
  "language_info": {
   "codemirror_mode": {
    "name": "ipython",
    "version": 3
   },
   "file_extension": ".py",
   "mimetype": "text/x-python",
   "name": "python",
   "nbconvert_exporter": "python",
   "pygments_lexer": "ipython3",
   "version": "3.9.7"
  }
 },
 "nbformat": 4,
 "nbformat_minor": 5
}
